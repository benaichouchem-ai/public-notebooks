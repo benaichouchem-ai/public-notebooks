{
 "cells": [
  {
   "cell_type": "markdown",
   "metadata": {},
   "source": [
    "###This notebook demonstrated how you can use the Adversarial Simulator to test your LLM application.\n",
    "For more information: https://learn.microsoft.com/en-us/azure/ai-studio/how-to/develop/simulator-interaction-data\n"
   ]
  },
  {
   "cell_type": "markdown",
   "metadata": {},
   "source": [
    "#!pip install promptflow-evals"
   ]
  },
  {
   "cell_type": "code",
   "execution_count": null,
   "metadata": {},
   "outputs": [],
   "source": [
    "from promptflow.evals.synthetic import AdversarialSimulator\n",
    "from typing import List, Dict, Any\n",
    "from pizza import orderPizza\n",
    "import os"
   ]
  },
  {
   "cell_type": "code",
   "execution_count": null,
   "metadata": {},
   "outputs": [],
   "source": [
    "from azure.identity import DefaultAzureCredential\n",
    "\n",
    "azure_ai_project = {\n",
    "    \"subscription_id\": os.environ.get('SUBSCRIPTION_ID'),\n",
    "    \"resource_group_name\": os.environ.get('RESOURCE_GROUP_NAME'),\n",
    "    \"project_name\": os.environ.get('PROJECT_NAME'),\n",
    "    \"credential\": DefaultAzureCredential(),\n",
    "}"
   ]
  },
  {
   "cell_type": "code",
   "execution_count": null,
   "metadata": {},
   "outputs": [],
   "source": [
    "async def callback(\n",
    "    messages: List[Dict],\n",
    "    stream: bool = False,\n",
    "    session_state: Any = None,\n",
    ") -> dict:\n",
    "     messages_list = messages[\"messages\"]\n",
    "    # get last message\n",
    "    latest_message = messages_list[-1]\n",
    "    query = latest_message[\"content\"]\n",
    "\n",
    "    # Add file contents for summarization or re-write\n",
    "    if 'file_content' in messages[\"template_parameters\"]:\n",
    "        query += messages[\"template_parameters\"]['file_content']\n",
    "    \n",
    "    # Call your own endpoint and pass your query as input. Make sure to handle your function_call_to_your_endpoint's error responses.\n",
    "    response = await orderPizza(query) \n",
    "    \n",
    "    # Format responses in OpenAI message protocol\n",
    "    formatted_response = {\n",
    "        \"content\": response,\n",
    "        \"role\": \"assistant\",\n",
    "        \"context\": {},\n",
    "    }\n",
    "\n",
    "    messages[\"messages\"].append(formatted_response)\n",
    "    return {\n",
    "        \"messages\": messages[\"messages\"],\n",
    "        \"stream\": stream,\n",
    "        \"session_state\": session_state\n",
    "    }"
   ]
  },
  {
   "cell_type": "code",
   "execution_count": null,
   "metadata": {},
   "outputs": [],
   "source": [
    "from promptflow.evals.synthetic import AdversarialScenario\n",
    "\n",
    "scenario = AdversarialScenario.ADVERSARIAL_CONVERSATION\n",
    "simulator = AdversarialSimulator(azure_ai_project=azure_ai_project)\n",
    "\n",
    "outputs = await simulator(\n",
    "        scenario=scenario, # required adversarial scenario to simulate\n",
    "        target=callback, # callback function to simulate against\n",
    "        max_conversation_turns=3, #optional, applicable only to conversation scenario\n",
    "        max_simulation_results=1, #optional\n",
    "        jailbreak=False #optional\n",
    "    )\n",
    "\n",
    "# By default simulator outputs json, use the following helper function to convert to QA pairs in jsonl format\n",
    "print(outputs.to_eval_qa_json_lines())"
   ]
  }
 ],
 "metadata": {
  "kernelspec": {
   "display_name": "adverserial",
   "language": "python",
   "name": "python3"
  },
  "language_info": {
   "codemirror_mode": {
    "name": "ipython",
    "version": 3
   },
   "file_extension": ".py",
   "mimetype": "text/x-python",
   "name": "python",
   "nbconvert_exporter": "python",
   "pygments_lexer": "ipython3",
   "version": "3.12.4"
  }
 },
 "nbformat": 4,
 "nbformat_minor": 2
}
